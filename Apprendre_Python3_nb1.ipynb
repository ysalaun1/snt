{
 "cells": [
  {
   "cell_type": "markdown",
   "metadata": {},
   "source": [
    "# ISN - Lycée de l'Elorn - 2017/2018"
   ]
  },
  {
   "cell_type": "markdown",
   "metadata": {},
   "source": [
    "## Notebopok d'apprentissage de Python 3 - la syntaxe de base."
   ]
  },
  {
   "cell_type": "markdown",
   "metadata": {},
   "source": [
    "### 1. Rappels "
   ]
  },
  {
   "cell_type": "markdown",
   "metadata": {},
   "source": [
    "#### 1.1 Les variables\n",
    "\n",
    "Dans le notebook MP01_Convertisseur_Partie1.ipynb vous trouverez (exercice 1 ) des infos sur les variables dans Python. \n",
    "Pour mémoire, nous avons vu les variables de type *int* (entiers), *float* (nombre à virgule flottante), *Str* (Chaîne de caractère). Il existe de nombreux autres types de variables (liste, dictionnaire, tuple, ... ) nous les découvrirons au fur et à mesure de nos besoins.\n",
    "\n",
    "#### 1.2 Les opérateurs de calcul\n",
    "\n",
    "Voir Exercice 2 du notebook MP01_Convertisseur_Partie1.ipynb\n",
    "\n",
    "#### 1.3 Les interactions utilisateur\n",
    "\n",
    "Voir Exercice 3 du notebook MP01_Convertisseur_Partie1.ipynb.\n",
    "Pour rappels : la fonction **input()** permet à l'utilisateur de saisir une info, cette info sera automatiquement typée en *Str*. La fonction **print()** permet d'afficher des résultats, on peut en afficher plusieurs en les séparant par une virgule.\n",
    "\n",
    "#### 1.4 La boucle 'pour'\n",
    "\n",
    "Voir Exercice 4 du notebook MP01_Convertisseur_Partie1.ipynb. Exemple :"
   ]
  },
  {
   "cell_type": "code",
   "execution_count": 2,
   "metadata": {},
   "outputs": [
    {
     "name": "stdout",
     "output_type": "stream",
     "text": [
      "0\n",
      "1\n",
      "2\n",
      "3\n",
      "4\n",
      "5\n"
     ]
    }
   ],
   "source": [
    "for i in range(6):\n",
    "    print(i)"
   ]
  },
  {
   "cell_type": "markdown",
   "metadata": {},
   "source": [
    "#### 1.5 La fonction **range()**\n",
    "\n",
    "Voir Exercice 5 du notebook MP01_Convertisseur_Partie1.ipynb. \n",
    "Pour rappel : on peut utiliser la fonction range() avec 1, 2 ou 3 paramètres. Vous pouvez faire des essais dans la cellule ci-dessus."
   ]
  },
  {
   "cell_type": "markdown",
   "metadata": {},
   "source": [
    "#### 1.6 Quelques infos sur la manipulation des chaînes de caractères.\n",
    "\n",
    "* La fonction **len()** qui permet de déterminer la longueur de la chaîne de caractère.\n",
    "* La notation avec les crochets qui permet d'isoler un caractère dans une chaîne ( le premier porte l'indice 0 ! )."
   ]
  },
  {
   "cell_type": "code",
   "execution_count": 4,
   "metadata": {},
   "outputs": [
    {
     "data": {
      "text/plain": [
       "'n'"
      ]
     },
     "execution_count": 4,
     "metadata": {},
     "output_type": "execute_result"
    }
   ],
   "source": [
    "maChaine=\"bonjour\"\n",
    "maChaine[2]"
   ]
  },
  {
   "cell_type": "markdown",
   "metadata": {},
   "source": [
    "### 2. Les tests ( if elif else )\n",
    "\n",
    "Pour effectuer un test sur une variable, on utilisera la structure :\n",
    "\n",
    "```\n",
    "if condition1 :\n",
    "    instructions\n",
    "elif condition2:\n",
    "    instructions\n",
    "else:\n",
    "    instructions\n",
    "```\n",
    "\n",
    "Exemple : pour donner un commentaire en fonction d'une note :"
   ]
  },
  {
   "cell_type": "code",
   "execution_count": null,
   "metadata": {},
   "outputs": [],
   "source": [
    "#On demande à l'utilisateur une note\n",
    "note=input(\"Note sur 20 :\")\n",
    "\n",
    "note=float(note)      # on convertit cette note en flottant\n",
    "\n",
    "if note<10:\n",
    "    print(\"Insuffisant\")\n",
    "elif note<15:\n",
    "    print(\"correct\")\n",
    "else:\n",
    "    print(\"Bon travail\")"
   ]
  },
  {
   "cell_type": "markdown",
   "metadata": {},
   "source": [
    "**Exercice :** Insérer ci-dessous une cellule de code, puis écrire un script qui demande à l'utilisateur son âge et lui répond :\n",
    " * S'il a moins de 7 ans : c'est un peu jeune pour se lancer dans Python\n",
    " * S'il a moins de 18 ans : bon courage, vous êtes né en .... ( mettre son année de naissance )\n",
    " * S'il a 18 ans ou plus : Vous auriez pu débuter Python depuis ... ans ( en comptant le nombre d'années écoulées depuis ses 7 ans)"
   ]
  },
  {
   "cell_type": "code",
   "execution_count": null,
   "metadata": {
    "collapsed": true
   },
   "outputs": [],
   "source": []
  },
  {
   "cell_type": "markdown",
   "metadata": {},
   "source": [
    "### 3. La boucle while\n",
    "\n",
    "La syntaxe de la boucle while est similaire aux précédentes :\n",
    "\n",
    "```\n",
    "while condition:\n",
    "    instructions\n",
    "\n",
    "```"
   ]
  },
  {
   "cell_type": "markdown",
   "metadata": {},
   "source": [
    "*Remarque :* Les tests peuvent se faire avec :\n",
    "* `==`pour tester l'égalité\n",
    "* `!=`pour tester la différence\n",
    "* < , > , <= , >= pour tester plus grand, plus petit, strictement ou non"
   ]
  },
  {
   "cell_type": "markdown",
   "metadata": {},
   "source": [
    "### 4. Exercices"
   ]
  },
  {
   "cell_type": "markdown",
   "metadata": {},
   "source": [
    "##### Exercice 1 : \n",
    "\n",
    "Ecrire un script qui affiche toutes les tables de multiplication de 1 à 10"
   ]
  },
  {
   "cell_type": "code",
   "execution_count": null,
   "metadata": {
    "collapsed": true
   },
   "outputs": [],
   "source": []
  },
  {
   "cell_type": "markdown",
   "metadata": {},
   "source": [
    "##### Exercice 2 : \n",
    "\n",
    "Ecrire un script qui demande à l'utilisateur combien de notes il a eu, puis calcule et affiche sa moyenne."
   ]
  },
  {
   "cell_type": "code",
   "execution_count": null,
   "metadata": {
    "collapsed": true
   },
   "outputs": [],
   "source": []
  },
  {
   "cell_type": "markdown",
   "metadata": {},
   "source": [
    "##### Exercice 3 : \n",
    "\n",
    "Ecrire un script qui compte le nombre de 'a' dans une chaïne de caractères. $$ f(x)=x^2 $$"
   ]
  },
  {
   "cell_type": "code",
   "execution_count": null,
   "metadata": {
    "collapsed": true
   },
   "outputs": [],
   "source": []
  },
  {
   "cell_type": "markdown",
   "metadata": {},
   "source": [
    "##### Exercice 4 : \n",
    "\n",
    "Ecrire un script qui calcule et affiche les n premiers termes de la suite définie par : \n",
    "\n",
    "$$ u_0=20 $$ et $$ u_{n+1}=\\dfrac{u_n}{2}+\\dfrac{1}{u_n}, \\forall n \\in IN$$"
   ]
  },
  {
   "cell_type": "code",
   "execution_count": null,
   "metadata": {
    "collapsed": true
   },
   "outputs": [],
   "source": []
  },
  {
   "cell_type": "markdown",
   "metadata": {},
   "source": [
    "##### Exercice 5 : \n",
    "\n",
    "Ecrire un script qui détermine si un mot donné est un palindrome ou non"
   ]
  },
  {
   "cell_type": "code",
   "execution_count": null,
   "metadata": {
    "collapsed": true
   },
   "outputs": [],
   "source": []
  },
  {
   "cell_type": "markdown",
   "metadata": {},
   "source": [
    "##### Exercice 6 : \n",
    "\n",
    "Terminer le mini-projet n°1 : convertisseur binaire <-> décimale ."
   ]
  },
  {
   "cell_type": "code",
   "execution_count": null,
   "metadata": {
    "collapsed": true
   },
   "outputs": [],
   "source": []
  }
 ],
 "metadata": {
  "kernelspec": {
   "display_name": "Python 3",
   "language": "python",
   "name": "python3"
  },
  "language_info": {
   "codemirror_mode": {
    "name": "ipython",
    "version": 3
   },
   "file_extension": ".py",
   "mimetype": "text/x-python",
   "name": "python",
   "nbconvert_exporter": "python",
   "pygments_lexer": "ipython3",
   "version": "3.5.2"
  }
 },
 "nbformat": 4,
 "nbformat_minor": 2
}
