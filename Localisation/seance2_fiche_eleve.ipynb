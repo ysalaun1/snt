{
 "cells": [
  {
   "cell_type": "markdown",
   "metadata": {},
   "source": [
    "# SNT - Thème Localisation, cartographie et mobilité\n",
    "----\n",
    "## Séance 2 \n",
    "----\n",
    "\n",
    "### Objectifs d'apprentissage : \n",
    "\n",
    "- Décoder une trame NMEA pour trouver des coordonnées géographiques\n",
    "- Placer des repères géographiques sur une carte intercative à l'aide d'un programme Python\n",
    "----"
   ]
  },
  {
   "cell_type": "markdown",
   "metadata": {},
   "source": [
    "# Modalités de travail : \n",
    "\n",
    "Pour cette séance, vous allez travailler dans un notebook (C'est le document qui vous êtes en train de lire).\n",
    "Dans ce notebook, vous trouverez des parties de texte, comme celle que vous lisez actuellement, et des cellules dans lesquelles vous pourrez écrire et exécuter du code en Python. Ci-dessous un exemple de cellule de code :"
   ]
  },
  {
   "cell_type": "code",
   "execution_count": null,
   "metadata": {},
   "outputs": [],
   "source": [
    "maChaine=\"Hello World !\"  #création d'une variable de type Str, de nom maChaine et de contenu Hello World !\n",
    "print(maChaine)           #Instruction qui demande d'écrire le contenu de la variable maChaine"
   ]
  },
  {
   "cell_type": "markdown",
   "metadata": {},
   "source": [
    "On reconnaît les cellule de code car elles sont précédées du mot **Entrée [ ]**.\n",
    "Placez-vous sur la cellule de code ci-dessus et appuyez sur la touche `<entrée>`, que se passe-t-il ?\n",
    "\n",
    "Normalement ... un saut de ligne, car vous pouvez écrire dans cette cellule. Pour exécuter le code il faut combiner les touches `<maj>` et `<entrée>`. Réessayez, que se passe-t-il ?\n",
    "\n",
    "Normalement vous devez avoir une nouvelle ligne sous la cellule avec l'écriture **Hello World!**.\n"
   ]
  },
  {
   "cell_type": "markdown",
   "metadata": {},
   "source": [
    "### Travail attendu :\n",
    "Vous aurez des parties de code à modifier, ou à compléter, vous pouvez exécuter ce code pour valider vos modifications.\n",
    "\n",
    "En fin de séance, vous enregistrerez votre travail par le menu `File` , `Save as...`, vous donnerez à votre notebook votre propre nom, puis vous déposerez ce notebook sur MOODLE.\n",
    "\n",
    "Prévoyez quelques minutes en fin de séance pour effectuer cette manipulation."
   ]
  },
  {
   "cell_type": "markdown",
   "metadata": {},
   "source": [
    "## PARTIE 1 : Décoder une trame NMEA"
   ]
  },
  {
   "cell_type": "markdown",
   "metadata": {},
   "source": [
    "### 1.1 Qu'est-ce qu'une trame NMEA ?\n",
    "\n",
    "Une trame NMEA est une suite de caractères fabriquées par un récepteru GPS et contenant plusieurs informations comme :\n",
    "- l'heure de réception\n",
    "- la latitude\n",
    "- la longitude\n",
    "- la date\n",
    "- l'altitude\n",
    "- le nombre de satellites captés\n",
    "- ...\n",
    "\n",
    "Voici un exemple de trame NMEA : \n"
   ]
  },
  {
   "cell_type": "markdown",
   "metadata": {},
   "source": [
    "![trame NMEA](trameNMEA.png)"
   ]
  },
  {
   "cell_type": "markdown",
   "metadata": {},
   "source": [
    "_En exécutant le code de la cellule ci-dessous, vous aurez une explication sur les codes utilisés :_"
   ]
  },
  {
   "cell_type": "code",
   "execution_count": null,
   "metadata": {},
   "outputs": [],
   "source": [
    "from IPython.display import HTML\n",
    "HTML('<IFrame src=\"https://fr.wikipedia.org/wiki/NMEA_0183\" width=900 height=350>')"
   ]
  },
  {
   "cell_type": "markdown",
   "metadata": {},
   "source": [
    "### 1.2 Au travail !\n",
    "\n",
    "#### a) Un premier exemple\n",
    "\n",
    "Pour extraire une partie d'une chaîne de caractère en Python, on peut utiliser les crochets []\n",
    "Exécuter le code des cellules ci-dessous :"
   ]
  },
  {
   "cell_type": "code",
   "execution_count": null,
   "metadata": {},
   "outputs": [],
   "source": [
    "maChaine=\"azertyuiop\"\n",
    "extrait1=maChaine[1:3]\n",
    "print(extrait1)"
   ]
  },
  {
   "cell_type": "code",
   "execution_count": null,
   "metadata": {},
   "outputs": [],
   "source": [
    "extrait2=maChaine[1:4]\n",
    "print(extrait2)"
   ]
  },
  {
   "cell_type": "code",
   "execution_count": null,
   "metadata": {},
   "outputs": [],
   "source": [
    "extrait3=maChaine[2:6]\n",
    "print(extrait3)"
   ]
  },
  {
   "cell_type": "code",
   "execution_count": null,
   "metadata": {},
   "outputs": [],
   "source": [
    "extrait4=maChaine[0:3]\n",
    "print(extrait4)"
   ]
  },
  {
   "cell_type": "markdown",
   "metadata": {},
   "source": [
    "#### b) Avec la trame NMEA \n",
    "\n",
    "Dans le code ci-dessous, nous avons une ligne commençant par GPGGA d'une trame NMEA.\n",
    "\n",
    "Complétez le code pour en extraire la latitude et la longitude:"
   ]
  },
  {
   "cell_type": "code",
   "execution_count": null,
   "metadata": {},
   "outputs": [],
   "source": [
    "trame=\"$GPGGA,210157.09,4834.1114,N,00314.6647,W,0,,100.000,230.933,M,,M,0,*5A\"\n",
    "latitude=trame[17:28]\n",
    "longitude =trame[29:41]\n",
    "print(\"La latitude est :\",latitude,\"et la longitude est :\",longitude)"
   ]
  },
  {
   "cell_type": "markdown",
   "metadata": {},
   "source": [
    "#### c) Problème !\n",
    "Parfois, certains champs de la trame sont vides, le code ci-dessus ne fonctionera pas dans ce cas puisque la longueur de la trame sera modifiée !\n",
    "\n",
    "Cherchez une solution ( un algorithme ) qui permettrait de solutioner ce problème. \n",
    "\n",
    "Vous décrirez la méthode envisagée dans la cellule ci-dessous :"
   ]
  },
  {
   "cell_type": "markdown",
   "metadata": {},
   "source": [
    "_Cliquez dans cette cellule pour y ajouter votre réponse_"
   ]
  },
  {
   "cell_type": "markdown",
   "metadata": {},
   "source": [
    "## PARTIE 2 : Placer des repères sur une carte"
   ]
  },
  {
   "cell_type": "markdown",
   "metadata": {},
   "source": [
    "### 2.1 Découverte de la bibliothèque folium.\n",
    "\n"
   ]
  },
  {
   "cell_type": "markdown",
   "metadata": {},
   "source": [
    "#### a) Un premier exemple.\n",
    "\n",
    "Exécutez le code de la cellule ci-dessous :"
   ]
  },
  {
   "cell_type": "code",
   "execution_count": null,
   "metadata": {},
   "outputs": [],
   "source": [
    "import folium\n",
    "\n",
    "maCarte = folium.Map(\n",
    "    location=[48.453045,-4.250491],\n",
    "    zoom_start=19\n",
    ")\n",
    "\n",
    "folium.Marker(\n",
    "    location=[48.4528,-4.2502],\n",
    "    popup=\"Vous êtes dans la cour !\",\n",
    "    icon=folium.Icon(color='red',icon='info-sign')\n",
    ").add_to(maCarte)\n",
    "\n",
    "\n",
    "maCarte"
   ]
  },
  {
   "cell_type": "markdown",
   "metadata": {},
   "source": [
    "#### b) Exercice\n",
    "\n",
    "Le code ci-dessous contient une ligne d'une trame NMEA, créée par une balise GPS que contenait le trésor de l'activité 1.\n",
    "\n",
    "Complétez le code afin d'en extraire les coordonnées géographiques, puis affichez la carte et ajoutez-y un marqueur de couleur bleue avec l'inscription **\"Emplacement du trésor\"** lorsqu'on clique dessus."
   ]
  },
  {
   "cell_type": "code",
   "execution_count": null,
   "metadata": {},
   "outputs": [],
   "source": [
    "import folium \n",
    "\n",
    "trame=\"$GPGGA,083000.05,4824.8167,N,00144.6833,W,1,04,100.000,230.933,M,,M,0,*5A\"\n",
    "\n",
    "\n"
   ]
  }
 ],
 "metadata": {
  "kernelspec": {
   "display_name": "Python 3",
   "language": "python",
   "name": "python3"
  },
  "language_info": {
   "codemirror_mode": {
    "name": "ipython",
    "version": 3
   },
   "file_extension": ".py",
   "mimetype": "text/x-python",
   "name": "python",
   "nbconvert_exporter": "python",
   "pygments_lexer": "ipython3",
   "version": "3.7.0"
  }
 },
 "nbformat": 4,
 "nbformat_minor": 2
}
