{
 "cells": [
  {
   "cell_type": "markdown",
   "metadata": {},
   "source": [
    "# Prise en main des notebooks"
   ]
  },
  {
   "cell_type": "markdown",
   "metadata": {},
   "source": [
    "## 1. Qu'est-ce qu'un notebook ?\n",
    "\n",
    "Un notebook est un document interactif, constitué de cellules pouvant contenir du texte, mais aussi de cellules pouvant contenir du code Python que l'on pourra exécuter directement.\n",
    "Pour exécuter du code Python, il faut se placer sur la cellule de code ( les cellules de code sont précédées de l'expression Entrée[i], i étant le numéro de la cellule dans l'ordre des exécutions. Exemple : la cellule ci-dessous ) et appuyer simultanément sur les touches Ctrl et Entrée.\n",
    "Essayez avec la cellule suivante :"
   ]
  },
  {
   "cell_type": "code",
   "execution_count": null,
   "metadata": {},
   "outputs": [],
   "source": [
    "print('Hello world!')"
   ]
  },
  {
   "cell_type": "markdown",
   "metadata": {},
   "source": [
    "## 2. Que peut-on faire avec un notebook ?\n",
    "\n",
    "Ci-dessous quelques exemples des possibilités offertes par les notebooks. Pour les exploiter, vous pouvez simplement les exécuter, si vous le souhaitez, vous pouvez modifier le code qui s'y trouve."
   ]
  },
  {
   "cell_type": "markdown",
   "metadata": {},
   "source": [
    "### A) Une super-calculatrice.\n",
    "Vous pouvez utiliser les notebooks comme des super-calculatrices Python :"
   ]
  },
  {
   "cell_type": "code",
   "execution_count": null,
   "metadata": {},
   "outputs": [],
   "source": [
    "2**50"
   ]
  }
 ],
 "metadata": {
  "kernelspec": {
   "display_name": "Python 3",
   "language": "python",
   "name": "python3"
  },
  "language_info": {
   "codemirror_mode": {
    "name": "ipython",
    "version": 3
   },
   "file_extension": ".py",
   "mimetype": "text/x-python",
   "name": "python",
   "nbconvert_exporter": "python",
   "pygments_lexer": "ipython3",
   "version": "3.6.7"
  }
 },
 "nbformat": 4,
 "nbformat_minor": 2
}
